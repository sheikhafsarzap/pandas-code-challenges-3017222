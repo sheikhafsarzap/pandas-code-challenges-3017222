{
 "cells": [
  {
   "cell_type": "markdown",
   "id": "20588d2a",
   "metadata": {},
   "source": [
    "# Handling missing values"
   ]
  },
  {
   "cell_type": "code",
   "execution_count": 1,
   "id": "5a9a92a6",
   "metadata": {},
   "outputs": [],
   "source": [
    "import pandas as pd"
   ]
  },
  {
   "cell_type": "code",
   "execution_count": 17,
   "id": "910ceb1d",
   "metadata": {},
   "outputs": [
    {
     "data": {
      "text/html": [
       "<div>\n",
       "<style scoped>\n",
       "    .dataframe tbody tr th:only-of-type {\n",
       "        vertical-align: middle;\n",
       "    }\n",
       "\n",
       "    .dataframe tbody tr th {\n",
       "        vertical-align: top;\n",
       "    }\n",
       "\n",
       "    .dataframe thead th {\n",
       "        text-align: right;\n",
       "    }\n",
       "</style>\n",
       "<table border=\"1\" class=\"dataframe\">\n",
       "  <thead>\n",
       "    <tr style=\"text-align: right;\">\n",
       "      <th></th>\n",
       "      <th>id</th>\n",
       "      <th>date</th>\n",
       "      <th>time</th>\n",
       "      <th>country_name</th>\n",
       "      <th>state/province</th>\n",
       "      <th>population</th>\n",
       "      <th>landslide_type</th>\n",
       "      <th>trigger</th>\n",
       "      <th>fatalities</th>\n",
       "    </tr>\n",
       "  </thead>\n",
       "  <tbody>\n",
       "    <tr>\n",
       "      <th>0</th>\n",
       "      <td>34</td>\n",
       "      <td>3/2/07</td>\n",
       "      <td>Night</td>\n",
       "      <td>United States</td>\n",
       "      <td>Virginia</td>\n",
       "      <td>16000</td>\n",
       "      <td>Landslide</td>\n",
       "      <td>Rain</td>\n",
       "      <td>NaN</td>\n",
       "    </tr>\n",
       "    <tr>\n",
       "      <th>1</th>\n",
       "      <td>42</td>\n",
       "      <td>3/22/07</td>\n",
       "      <td>NaN</td>\n",
       "      <td>United States</td>\n",
       "      <td>Ohio</td>\n",
       "      <td>17288</td>\n",
       "      <td>Landslide</td>\n",
       "      <td>Rain</td>\n",
       "      <td>NaN</td>\n",
       "    </tr>\n",
       "    <tr>\n",
       "      <th>2</th>\n",
       "      <td>56</td>\n",
       "      <td>4/6/07</td>\n",
       "      <td>NaN</td>\n",
       "      <td>United States</td>\n",
       "      <td>Pennsylvania</td>\n",
       "      <td>15930</td>\n",
       "      <td>Landslide</td>\n",
       "      <td>Rain</td>\n",
       "      <td>NaN</td>\n",
       "    </tr>\n",
       "    <tr>\n",
       "      <th>3</th>\n",
       "      <td>59</td>\n",
       "      <td>4/14/07</td>\n",
       "      <td>NaN</td>\n",
       "      <td>Canada</td>\n",
       "      <td>Quebec</td>\n",
       "      <td>42786</td>\n",
       "      <td>Riverbank collapse</td>\n",
       "      <td>Rain</td>\n",
       "      <td>NaN</td>\n",
       "    </tr>\n",
       "    <tr>\n",
       "      <th>4</th>\n",
       "      <td>61</td>\n",
       "      <td>4/15/07</td>\n",
       "      <td>NaN</td>\n",
       "      <td>United States</td>\n",
       "      <td>Kentucky</td>\n",
       "      <td>6903</td>\n",
       "      <td>Landslide</td>\n",
       "      <td>Downpour</td>\n",
       "      <td>0.0</td>\n",
       "    </tr>\n",
       "  </tbody>\n",
       "</table>\n",
       "</div>"
      ],
      "text/plain": [
       "   id     date   time   country_name state/province  population  \\\n",
       "0  34   3/2/07  Night  United States       Virginia       16000   \n",
       "1  42  3/22/07    NaN  United States           Ohio       17288   \n",
       "2  56   4/6/07    NaN  United States   Pennsylvania       15930   \n",
       "3  59  4/14/07    NaN         Canada         Quebec       42786   \n",
       "4  61  4/15/07    NaN  United States       Kentucky        6903   \n",
       "\n",
       "       landslide_type   trigger  fatalities  \n",
       "0           Landslide      Rain         NaN  \n",
       "1           Landslide      Rain         NaN  \n",
       "2           Landslide      Rain         NaN  \n",
       "3  Riverbank collapse      Rain         NaN  \n",
       "4           Landslide  Downpour         0.0  "
      ]
     },
     "execution_count": 17,
     "metadata": {},
     "output_type": "execute_result"
    }
   ],
   "source": [
    "df = pd.read_csv(\"./data/landslides.csv\")\n",
    "df.head()"
   ]
  },
  {
   "cell_type": "markdown",
   "id": "0524fad8",
   "metadata": {},
   "source": [
    "## Check and handle missing values"
   ]
  },
  {
   "cell_type": "code",
   "execution_count": 18,
   "id": "c15ed220",
   "metadata": {
    "tags": []
   },
   "outputs": [
    {
     "name": "stdout",
     "output_type": "stream",
     "text": [
      "<class 'pandas.core.frame.DataFrame'>\n",
      "RangeIndex: 1693 entries, 0 to 1692\n",
      "Data columns (total 9 columns):\n",
      " #   Column          Non-Null Count  Dtype  \n",
      "---  ------          --------------  -----  \n",
      " 0   id              1693 non-null   int64  \n",
      " 1   date            1690 non-null   object \n",
      " 2   time            629 non-null    object \n",
      " 3   country_name    1693 non-null   object \n",
      " 4   state/province  1692 non-null   object \n",
      " 5   population      1693 non-null   int64  \n",
      " 6   landslide_type  1692 non-null   object \n",
      " 7   trigger         1691 non-null   object \n",
      " 8   fatalities      1446 non-null   float64\n",
      "dtypes: float64(1), int64(2), object(6)\n",
      "memory usage: 119.2+ KB\n"
     ]
    }
   ],
   "source": [
    "df.info()"
   ]
  },
  {
   "cell_type": "code",
   "execution_count": 19,
   "id": "07585864",
   "metadata": {
    "tags": []
   },
   "outputs": [
    {
     "data": {
      "text/plain": [
       "id                   0\n",
       "date                 3\n",
       "time              1064\n",
       "country_name         0\n",
       "state/province       1\n",
       "population           0\n",
       "landslide_type       1\n",
       "trigger              2\n",
       "fatalities         247\n",
       "dtype: int64"
      ]
     },
     "execution_count": 19,
     "metadata": {},
     "output_type": "execute_result"
    }
   ],
   "source": [
    "df.isna().sum()"
   ]
  },
  {
   "cell_type": "markdown",
   "id": "294fb9a8-5db4-4bca-ac40-3f66be1f12a7",
   "metadata": {},
   "source": [
    "### Drops rows with missing date values"
   ]
  },
  {
   "cell_type": "code",
   "execution_count": 20,
   "id": "6107b650-7dbc-4a5a-bff7-c0d240fd176e",
   "metadata": {
    "tags": []
   },
   "outputs": [],
   "source": [
    "df = df[~df['date'].isnull()]"
   ]
  },
  {
   "cell_type": "code",
   "execution_count": 21,
   "id": "210e49c1-972b-4a8a-a158-406b0ddeb4ae",
   "metadata": {
    "tags": []
   },
   "outputs": [
    {
     "data": {
      "text/html": [
       "<div>\n",
       "<style scoped>\n",
       "    .dataframe tbody tr th:only-of-type {\n",
       "        vertical-align: middle;\n",
       "    }\n",
       "\n",
       "    .dataframe tbody tr th {\n",
       "        vertical-align: top;\n",
       "    }\n",
       "\n",
       "    .dataframe thead th {\n",
       "        text-align: right;\n",
       "    }\n",
       "</style>\n",
       "<table border=\"1\" class=\"dataframe\">\n",
       "  <thead>\n",
       "    <tr style=\"text-align: right;\">\n",
       "      <th></th>\n",
       "      <th>id</th>\n",
       "      <th>date</th>\n",
       "      <th>time</th>\n",
       "      <th>country_name</th>\n",
       "      <th>state/province</th>\n",
       "      <th>population</th>\n",
       "      <th>landslide_type</th>\n",
       "      <th>trigger</th>\n",
       "      <th>fatalities</th>\n",
       "    </tr>\n",
       "  </thead>\n",
       "  <tbody>\n",
       "    <tr>\n",
       "      <th>0</th>\n",
       "      <td>34</td>\n",
       "      <td>3/2/07</td>\n",
       "      <td>Night</td>\n",
       "      <td>United States</td>\n",
       "      <td>Virginia</td>\n",
       "      <td>16000</td>\n",
       "      <td>Landslide</td>\n",
       "      <td>Rain</td>\n",
       "      <td>NaN</td>\n",
       "    </tr>\n",
       "    <tr>\n",
       "      <th>1</th>\n",
       "      <td>42</td>\n",
       "      <td>3/22/07</td>\n",
       "      <td>NaN</td>\n",
       "      <td>United States</td>\n",
       "      <td>Ohio</td>\n",
       "      <td>17288</td>\n",
       "      <td>Landslide</td>\n",
       "      <td>Rain</td>\n",
       "      <td>NaN</td>\n",
       "    </tr>\n",
       "    <tr>\n",
       "      <th>2</th>\n",
       "      <td>56</td>\n",
       "      <td>4/6/07</td>\n",
       "      <td>NaN</td>\n",
       "      <td>United States</td>\n",
       "      <td>Pennsylvania</td>\n",
       "      <td>15930</td>\n",
       "      <td>Landslide</td>\n",
       "      <td>Rain</td>\n",
       "      <td>NaN</td>\n",
       "    </tr>\n",
       "    <tr>\n",
       "      <th>3</th>\n",
       "      <td>59</td>\n",
       "      <td>4/14/07</td>\n",
       "      <td>NaN</td>\n",
       "      <td>Canada</td>\n",
       "      <td>Quebec</td>\n",
       "      <td>42786</td>\n",
       "      <td>Riverbank collapse</td>\n",
       "      <td>Rain</td>\n",
       "      <td>NaN</td>\n",
       "    </tr>\n",
       "    <tr>\n",
       "      <th>4</th>\n",
       "      <td>61</td>\n",
       "      <td>4/15/07</td>\n",
       "      <td>NaN</td>\n",
       "      <td>United States</td>\n",
       "      <td>Kentucky</td>\n",
       "      <td>6903</td>\n",
       "      <td>Landslide</td>\n",
       "      <td>Downpour</td>\n",
       "      <td>0.0</td>\n",
       "    </tr>\n",
       "    <tr>\n",
       "      <th>...</th>\n",
       "      <td>...</td>\n",
       "      <td>...</td>\n",
       "      <td>...</td>\n",
       "      <td>...</td>\n",
       "      <td>...</td>\n",
       "      <td>...</td>\n",
       "      <td>...</td>\n",
       "      <td>...</td>\n",
       "      <td>...</td>\n",
       "    </tr>\n",
       "    <tr>\n",
       "      <th>1688</th>\n",
       "      <td>7535</td>\n",
       "      <td>12/7/15</td>\n",
       "      <td>NaN</td>\n",
       "      <td>United States</td>\n",
       "      <td>North Carolina</td>\n",
       "      <td>1646</td>\n",
       "      <td>Rockfall</td>\n",
       "      <td>NaN</td>\n",
       "      <td>0.0</td>\n",
       "    </tr>\n",
       "    <tr>\n",
       "      <th>1689</th>\n",
       "      <td>7537</td>\n",
       "      <td>2/22/16</td>\n",
       "      <td>0:00</td>\n",
       "      <td>United States</td>\n",
       "      <td>West Virginia</td>\n",
       "      <td>51400</td>\n",
       "      <td>Mudslide</td>\n",
       "      <td>Unknown</td>\n",
       "      <td>0.0</td>\n",
       "    </tr>\n",
       "    <tr>\n",
       "      <th>1690</th>\n",
       "      <td>7539</td>\n",
       "      <td>2/23/16</td>\n",
       "      <td>NaN</td>\n",
       "      <td>United States</td>\n",
       "      <td>West Virginia</td>\n",
       "      <td>2406</td>\n",
       "      <td>Landslide</td>\n",
       "      <td>Rain</td>\n",
       "      <td>0.0</td>\n",
       "    </tr>\n",
       "    <tr>\n",
       "      <th>1691</th>\n",
       "      <td>7540</td>\n",
       "      <td>2/26/16</td>\n",
       "      <td>21:06</td>\n",
       "      <td>United States</td>\n",
       "      <td>West Virginia</td>\n",
       "      <td>1048</td>\n",
       "      <td>Rockfall</td>\n",
       "      <td>Unknown</td>\n",
       "      <td>0.0</td>\n",
       "    </tr>\n",
       "    <tr>\n",
       "      <th>1692</th>\n",
       "      <td>7541</td>\n",
       "      <td>3/2/16</td>\n",
       "      <td>8:00</td>\n",
       "      <td>United States</td>\n",
       "      <td>Vermont</td>\n",
       "      <td>2066</td>\n",
       "      <td>Rockfall</td>\n",
       "      <td>Unknown</td>\n",
       "      <td>0.0</td>\n",
       "    </tr>\n",
       "  </tbody>\n",
       "</table>\n",
       "<p>1690 rows × 9 columns</p>\n",
       "</div>"
      ],
      "text/plain": [
       "        id     date   time   country_name  state/province  population  \\\n",
       "0       34   3/2/07  Night  United States        Virginia       16000   \n",
       "1       42  3/22/07    NaN  United States            Ohio       17288   \n",
       "2       56   4/6/07    NaN  United States    Pennsylvania       15930   \n",
       "3       59  4/14/07    NaN         Canada          Quebec       42786   \n",
       "4       61  4/15/07    NaN  United States        Kentucky        6903   \n",
       "...    ...      ...    ...            ...             ...         ...   \n",
       "1688  7535  12/7/15    NaN  United States  North Carolina        1646   \n",
       "1689  7537  2/22/16   0:00  United States   West Virginia       51400   \n",
       "1690  7539  2/23/16    NaN  United States   West Virginia        2406   \n",
       "1691  7540  2/26/16  21:06  United States   West Virginia        1048   \n",
       "1692  7541   3/2/16   8:00  United States         Vermont        2066   \n",
       "\n",
       "          landslide_type   trigger  fatalities  \n",
       "0              Landslide      Rain         NaN  \n",
       "1              Landslide      Rain         NaN  \n",
       "2              Landslide      Rain         NaN  \n",
       "3     Riverbank collapse      Rain         NaN  \n",
       "4              Landslide  Downpour         0.0  \n",
       "...                  ...       ...         ...  \n",
       "1688            Rockfall       NaN         0.0  \n",
       "1689            Mudslide   Unknown         0.0  \n",
       "1690           Landslide      Rain         0.0  \n",
       "1691            Rockfall   Unknown         0.0  \n",
       "1692            Rockfall   Unknown         0.0  \n",
       "\n",
       "[1690 rows x 9 columns]"
      ]
     },
     "execution_count": 21,
     "metadata": {},
     "output_type": "execute_result"
    }
   ],
   "source": [
    "df"
   ]
  },
  {
   "cell_type": "code",
   "execution_count": 22,
   "id": "74591af6-6a16-4691-8b84-116fa2497769",
   "metadata": {
    "tags": []
   },
   "outputs": [
    {
     "data": {
      "text/plain": [
       "Night            97\n",
       "Morning          87\n",
       "Afternoon        58\n",
       "Early morning    36\n",
       "3:00:00          12\n",
       "                 ..\n",
       "1:13              1\n",
       "9:40:00           1\n",
       "11:50:00          1\n",
       "                  1\n",
       "21:06             1\n",
       "Name: time, Length: 159, dtype: int64"
      ]
     },
     "execution_count": 22,
     "metadata": {},
     "output_type": "execute_result"
    }
   ],
   "source": [
    "df['time'].value_counts()"
   ]
  },
  {
   "cell_type": "code",
   "execution_count": 28,
   "id": "84dbce30-565c-4e86-9f32-68b941e4603e",
   "metadata": {
    "tags": []
   },
   "outputs": [
    {
     "data": {
      "text/plain": [
       "0"
      ]
     },
     "execution_count": 28,
     "metadata": {},
     "output_type": "execute_result"
    }
   ],
   "source": [
    "df['time'].isna().sum()"
   ]
  },
  {
   "cell_type": "code",
   "execution_count": 26,
   "id": "cc56cddb-c9bd-4b59-8313-7ab661c9418b",
   "metadata": {
    "tags": []
   },
   "outputs": [],
   "source": [
    "df['time'] = df['time'].fillna('Not Known')"
   ]
  },
  {
   "cell_type": "code",
   "execution_count": 27,
   "id": "adb80dc9-9543-4b33-87a5-e87b461b539e",
   "metadata": {
    "tags": []
   },
   "outputs": [
    {
     "data": {
      "text/plain": [
       "0           Night\n",
       "1       Not Known\n",
       "2       Not Known\n",
       "3       Not Known\n",
       "4       Not Known\n",
       "          ...    \n",
       "1688    Not Known\n",
       "1689         0:00\n",
       "1690    Not Known\n",
       "1691        21:06\n",
       "1692         8:00\n",
       "Name: time, Length: 1690, dtype: object"
      ]
     },
     "execution_count": 27,
     "metadata": {},
     "output_type": "execute_result"
    }
   ],
   "source": [
    "df['time']"
   ]
  },
  {
   "cell_type": "code",
   "execution_count": 29,
   "id": "97059608-0187-47df-a05c-a8a615cc3292",
   "metadata": {
    "tags": []
   },
   "outputs": [],
   "source": [
    "mean = df['fatalities'].mean()"
   ]
  },
  {
   "cell_type": "code",
   "execution_count": 30,
   "id": "0e9a7772-9c61-439f-a716-c8312606ccb3",
   "metadata": {
    "tags": []
   },
   "outputs": [
    {
     "data": {
      "text/plain": [
       "1.4622314622314623"
      ]
     },
     "execution_count": 30,
     "metadata": {},
     "output_type": "execute_result"
    }
   ],
   "source": [
    "mean"
   ]
  },
  {
   "cell_type": "code",
   "execution_count": 31,
   "id": "55b2a0c3-682f-4266-aac2-e274ab9f18a3",
   "metadata": {
    "tags": []
   },
   "outputs": [],
   "source": [
    "df['fatalities'] = df['fatalities'].fillna(mean) "
   ]
  },
  {
   "cell_type": "code",
   "execution_count": 32,
   "id": "faedaa92-c867-40f5-bc3f-759efde7a1d0",
   "metadata": {
    "tags": []
   },
   "outputs": [
    {
     "data": {
      "text/plain": [
       "0"
      ]
     },
     "execution_count": 32,
     "metadata": {},
     "output_type": "execute_result"
    }
   ],
   "source": [
    "df['fatalities'].isna().sum()"
   ]
  },
  {
   "cell_type": "code",
   "execution_count": null,
   "id": "a4bb6f28-4469-4fef-96f8-d639db159e57",
   "metadata": {},
   "outputs": [],
   "source": []
  }
 ],
 "metadata": {
  "kernelspec": {
   "display_name": "Python 3 (ipykernel)",
   "language": "python",
   "name": "python3"
  },
  "language_info": {
   "codemirror_mode": {
    "name": "ipython",
    "version": 3
   },
   "file_extension": ".py",
   "mimetype": "text/x-python",
   "name": "python",
   "nbconvert_exporter": "python",
   "pygments_lexer": "ipython3",
   "version": "3.11.1"
  }
 },
 "nbformat": 4,
 "nbformat_minor": 5
}
