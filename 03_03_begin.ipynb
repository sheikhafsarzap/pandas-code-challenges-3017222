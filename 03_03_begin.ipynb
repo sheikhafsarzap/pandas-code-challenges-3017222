{
 "cells": [
  {
   "cell_type": "markdown",
   "id": "20588d2a",
   "metadata": {},
   "source": [
    "# Parsing datetime data"
   ]
  },
  {
   "cell_type": "code",
   "execution_count": 1,
   "id": "5a9a92a6",
   "metadata": {},
   "outputs": [],
   "source": [
    "import pandas as pd"
   ]
  },
  {
   "cell_type": "code",
   "execution_count": 2,
   "id": "910ceb1d",
   "metadata": {},
   "outputs": [
    {
     "data": {
      "text/html": [
       "<div>\n",
       "<style scoped>\n",
       "    .dataframe tbody tr th:only-of-type {\n",
       "        vertical-align: middle;\n",
       "    }\n",
       "\n",
       "    .dataframe tbody tr th {\n",
       "        vertical-align: top;\n",
       "    }\n",
       "\n",
       "    .dataframe thead th {\n",
       "        text-align: right;\n",
       "    }\n",
       "</style>\n",
       "<table border=\"1\" class=\"dataframe\">\n",
       "  <thead>\n",
       "    <tr style=\"text-align: right;\">\n",
       "      <th></th>\n",
       "      <th>id</th>\n",
       "      <th>date</th>\n",
       "      <th>time</th>\n",
       "      <th>country_name</th>\n",
       "      <th>state/province</th>\n",
       "      <th>population</th>\n",
       "      <th>landslide_type</th>\n",
       "      <th>trigger</th>\n",
       "      <th>fatalities</th>\n",
       "    </tr>\n",
       "  </thead>\n",
       "  <tbody>\n",
       "    <tr>\n",
       "      <th>0</th>\n",
       "      <td>34</td>\n",
       "      <td>3/2/07</td>\n",
       "      <td>Night</td>\n",
       "      <td>United States</td>\n",
       "      <td>Virginia</td>\n",
       "      <td>16000</td>\n",
       "      <td>Landslide</td>\n",
       "      <td>Rain</td>\n",
       "      <td>NaN</td>\n",
       "    </tr>\n",
       "    <tr>\n",
       "      <th>1</th>\n",
       "      <td>42</td>\n",
       "      <td>3/22/07</td>\n",
       "      <td>NaN</td>\n",
       "      <td>United States</td>\n",
       "      <td>Ohio</td>\n",
       "      <td>17288</td>\n",
       "      <td>Landslide</td>\n",
       "      <td>Rain</td>\n",
       "      <td>NaN</td>\n",
       "    </tr>\n",
       "    <tr>\n",
       "      <th>2</th>\n",
       "      <td>56</td>\n",
       "      <td>4/6/07</td>\n",
       "      <td>NaN</td>\n",
       "      <td>United States</td>\n",
       "      <td>Pennsylvania</td>\n",
       "      <td>15930</td>\n",
       "      <td>Landslide</td>\n",
       "      <td>Rain</td>\n",
       "      <td>NaN</td>\n",
       "    </tr>\n",
       "    <tr>\n",
       "      <th>3</th>\n",
       "      <td>59</td>\n",
       "      <td>4/14/07</td>\n",
       "      <td>NaN</td>\n",
       "      <td>Canada</td>\n",
       "      <td>Quebec</td>\n",
       "      <td>42786</td>\n",
       "      <td>Riverbank collapse</td>\n",
       "      <td>Rain</td>\n",
       "      <td>NaN</td>\n",
       "    </tr>\n",
       "    <tr>\n",
       "      <th>4</th>\n",
       "      <td>61</td>\n",
       "      <td>4/15/07</td>\n",
       "      <td>NaN</td>\n",
       "      <td>United States</td>\n",
       "      <td>Kentucky</td>\n",
       "      <td>6903</td>\n",
       "      <td>Landslide</td>\n",
       "      <td>Downpour</td>\n",
       "      <td>0.0</td>\n",
       "    </tr>\n",
       "  </tbody>\n",
       "</table>\n",
       "</div>"
      ],
      "text/plain": [
       "   id     date   time   country_name state/province  population  \\\n",
       "0  34   3/2/07  Night  United States       Virginia       16000   \n",
       "1  42  3/22/07    NaN  United States           Ohio       17288   \n",
       "2  56   4/6/07    NaN  United States   Pennsylvania       15930   \n",
       "3  59  4/14/07    NaN         Canada         Quebec       42786   \n",
       "4  61  4/15/07    NaN  United States       Kentucky        6903   \n",
       "\n",
       "       landslide_type   trigger  fatalities  \n",
       "0           Landslide      Rain         NaN  \n",
       "1           Landslide      Rain         NaN  \n",
       "2           Landslide      Rain         NaN  \n",
       "3  Riverbank collapse      Rain         NaN  \n",
       "4           Landslide  Downpour         0.0  "
      ]
     },
     "execution_count": 2,
     "metadata": {},
     "output_type": "execute_result"
    }
   ],
   "source": [
    "df = pd.read_csv(\"./data/landslides.csv\")\n",
    "df.head()"
   ]
  },
  {
   "cell_type": "markdown",
   "id": "0524fad8",
   "metadata": {},
   "source": [
    "## Check and handle missing values"
   ]
  },
  {
   "cell_type": "code",
   "execution_count": 3,
   "id": "9a2a3dba",
   "metadata": {},
   "outputs": [
    {
     "name": "stdout",
     "output_type": "stream",
     "text": [
      "<class 'pandas.core.frame.DataFrame'>\n",
      "RangeIndex: 1693 entries, 0 to 1692\n",
      "Data columns (total 9 columns):\n",
      " #   Column          Non-Null Count  Dtype  \n",
      "---  ------          --------------  -----  \n",
      " 0   id              1693 non-null   int64  \n",
      " 1   date            1690 non-null   object \n",
      " 2   time            629 non-null    object \n",
      " 3   country_name    1693 non-null   object \n",
      " 4   state/province  1692 non-null   object \n",
      " 5   population      1693 non-null   int64  \n",
      " 6   landslide_type  1692 non-null   object \n",
      " 7   trigger         1691 non-null   object \n",
      " 8   fatalities      1446 non-null   float64\n",
      "dtypes: float64(1), int64(2), object(6)\n",
      "memory usage: 119.2+ KB\n"
     ]
    }
   ],
   "source": [
    "df.info()"
   ]
  },
  {
   "cell_type": "code",
   "execution_count": 4,
   "id": "fabbae19",
   "metadata": {},
   "outputs": [
    {
     "data": {
      "text/plain": [
       "id                   0\n",
       "date                 3\n",
       "time              1064\n",
       "country_name         0\n",
       "state/province       1\n",
       "population           0\n",
       "landslide_type       1\n",
       "trigger              2\n",
       "fatalities         247\n",
       "dtype: int64"
      ]
     },
     "execution_count": 4,
     "metadata": {},
     "output_type": "execute_result"
    }
   ],
   "source": [
    "df.isna().sum()"
   ]
  },
  {
   "cell_type": "code",
   "execution_count": 5,
   "id": "5f2275e7",
   "metadata": {},
   "outputs": [],
   "source": [
    "df = df[~df['date'].isnull()]"
   ]
  },
  {
   "cell_type": "code",
   "execution_count": 6,
   "id": "414c4af8",
   "metadata": {},
   "outputs": [
    {
     "data": {
      "text/html": [
       "<div>\n",
       "<style scoped>\n",
       "    .dataframe tbody tr th:only-of-type {\n",
       "        vertical-align: middle;\n",
       "    }\n",
       "\n",
       "    .dataframe tbody tr th {\n",
       "        vertical-align: top;\n",
       "    }\n",
       "\n",
       "    .dataframe thead th {\n",
       "        text-align: right;\n",
       "    }\n",
       "</style>\n",
       "<table border=\"1\" class=\"dataframe\">\n",
       "  <thead>\n",
       "    <tr style=\"text-align: right;\">\n",
       "      <th></th>\n",
       "      <th>id</th>\n",
       "      <th>date</th>\n",
       "      <th>time</th>\n",
       "      <th>country_name</th>\n",
       "      <th>state/province</th>\n",
       "      <th>population</th>\n",
       "      <th>landslide_type</th>\n",
       "      <th>trigger</th>\n",
       "      <th>fatalities</th>\n",
       "    </tr>\n",
       "  </thead>\n",
       "  <tbody>\n",
       "    <tr>\n",
       "      <th>0</th>\n",
       "      <td>34</td>\n",
       "      <td>3/2/07</td>\n",
       "      <td>Night</td>\n",
       "      <td>United States</td>\n",
       "      <td>Virginia</td>\n",
       "      <td>16000</td>\n",
       "      <td>Landslide</td>\n",
       "      <td>Rain</td>\n",
       "      <td>NaN</td>\n",
       "    </tr>\n",
       "    <tr>\n",
       "      <th>1</th>\n",
       "      <td>42</td>\n",
       "      <td>3/22/07</td>\n",
       "      <td>NaN</td>\n",
       "      <td>United States</td>\n",
       "      <td>Ohio</td>\n",
       "      <td>17288</td>\n",
       "      <td>Landslide</td>\n",
       "      <td>Rain</td>\n",
       "      <td>NaN</td>\n",
       "    </tr>\n",
       "    <tr>\n",
       "      <th>2</th>\n",
       "      <td>56</td>\n",
       "      <td>4/6/07</td>\n",
       "      <td>NaN</td>\n",
       "      <td>United States</td>\n",
       "      <td>Pennsylvania</td>\n",
       "      <td>15930</td>\n",
       "      <td>Landslide</td>\n",
       "      <td>Rain</td>\n",
       "      <td>NaN</td>\n",
       "    </tr>\n",
       "    <tr>\n",
       "      <th>3</th>\n",
       "      <td>59</td>\n",
       "      <td>4/14/07</td>\n",
       "      <td>NaN</td>\n",
       "      <td>Canada</td>\n",
       "      <td>Quebec</td>\n",
       "      <td>42786</td>\n",
       "      <td>Riverbank collapse</td>\n",
       "      <td>Rain</td>\n",
       "      <td>NaN</td>\n",
       "    </tr>\n",
       "    <tr>\n",
       "      <th>4</th>\n",
       "      <td>61</td>\n",
       "      <td>4/15/07</td>\n",
       "      <td>NaN</td>\n",
       "      <td>United States</td>\n",
       "      <td>Kentucky</td>\n",
       "      <td>6903</td>\n",
       "      <td>Landslide</td>\n",
       "      <td>Downpour</td>\n",
       "      <td>0.0</td>\n",
       "    </tr>\n",
       "    <tr>\n",
       "      <th>...</th>\n",
       "      <td>...</td>\n",
       "      <td>...</td>\n",
       "      <td>...</td>\n",
       "      <td>...</td>\n",
       "      <td>...</td>\n",
       "      <td>...</td>\n",
       "      <td>...</td>\n",
       "      <td>...</td>\n",
       "      <td>...</td>\n",
       "    </tr>\n",
       "    <tr>\n",
       "      <th>1688</th>\n",
       "      <td>7535</td>\n",
       "      <td>12/7/15</td>\n",
       "      <td>NaN</td>\n",
       "      <td>United States</td>\n",
       "      <td>North Carolina</td>\n",
       "      <td>1646</td>\n",
       "      <td>Rockfall</td>\n",
       "      <td>NaN</td>\n",
       "      <td>0.0</td>\n",
       "    </tr>\n",
       "    <tr>\n",
       "      <th>1689</th>\n",
       "      <td>7537</td>\n",
       "      <td>2/22/16</td>\n",
       "      <td>0:00</td>\n",
       "      <td>United States</td>\n",
       "      <td>West Virginia</td>\n",
       "      <td>51400</td>\n",
       "      <td>Mudslide</td>\n",
       "      <td>Unknown</td>\n",
       "      <td>0.0</td>\n",
       "    </tr>\n",
       "    <tr>\n",
       "      <th>1690</th>\n",
       "      <td>7539</td>\n",
       "      <td>2/23/16</td>\n",
       "      <td>NaN</td>\n",
       "      <td>United States</td>\n",
       "      <td>West Virginia</td>\n",
       "      <td>2406</td>\n",
       "      <td>Landslide</td>\n",
       "      <td>Rain</td>\n",
       "      <td>0.0</td>\n",
       "    </tr>\n",
       "    <tr>\n",
       "      <th>1691</th>\n",
       "      <td>7540</td>\n",
       "      <td>2/26/16</td>\n",
       "      <td>21:06</td>\n",
       "      <td>United States</td>\n",
       "      <td>West Virginia</td>\n",
       "      <td>1048</td>\n",
       "      <td>Rockfall</td>\n",
       "      <td>Unknown</td>\n",
       "      <td>0.0</td>\n",
       "    </tr>\n",
       "    <tr>\n",
       "      <th>1692</th>\n",
       "      <td>7541</td>\n",
       "      <td>3/2/16</td>\n",
       "      <td>8:00</td>\n",
       "      <td>United States</td>\n",
       "      <td>Vermont</td>\n",
       "      <td>2066</td>\n",
       "      <td>Rockfall</td>\n",
       "      <td>Unknown</td>\n",
       "      <td>0.0</td>\n",
       "    </tr>\n",
       "  </tbody>\n",
       "</table>\n",
       "<p>1690 rows × 9 columns</p>\n",
       "</div>"
      ],
      "text/plain": [
       "        id     date   time   country_name  state/province  population  \\\n",
       "0       34   3/2/07  Night  United States        Virginia       16000   \n",
       "1       42  3/22/07    NaN  United States            Ohio       17288   \n",
       "2       56   4/6/07    NaN  United States    Pennsylvania       15930   \n",
       "3       59  4/14/07    NaN         Canada          Quebec       42786   \n",
       "4       61  4/15/07    NaN  United States        Kentucky        6903   \n",
       "...    ...      ...    ...            ...             ...         ...   \n",
       "1688  7535  12/7/15    NaN  United States  North Carolina        1646   \n",
       "1689  7537  2/22/16   0:00  United States   West Virginia       51400   \n",
       "1690  7539  2/23/16    NaN  United States   West Virginia        2406   \n",
       "1691  7540  2/26/16  21:06  United States   West Virginia        1048   \n",
       "1692  7541   3/2/16   8:00  United States         Vermont        2066   \n",
       "\n",
       "          landslide_type   trigger  fatalities  \n",
       "0              Landslide      Rain         NaN  \n",
       "1              Landslide      Rain         NaN  \n",
       "2              Landslide      Rain         NaN  \n",
       "3     Riverbank collapse      Rain         NaN  \n",
       "4              Landslide  Downpour         0.0  \n",
       "...                  ...       ...         ...  \n",
       "1688            Rockfall       NaN         0.0  \n",
       "1689            Mudslide   Unknown         0.0  \n",
       "1690           Landslide      Rain         0.0  \n",
       "1691            Rockfall   Unknown         0.0  \n",
       "1692            Rockfall   Unknown         0.0  \n",
       "\n",
       "[1690 rows x 9 columns]"
      ]
     },
     "execution_count": 6,
     "metadata": {},
     "output_type": "execute_result"
    }
   ],
   "source": [
    "df"
   ]
  },
  {
   "cell_type": "code",
   "execution_count": 7,
   "id": "273062f5",
   "metadata": {},
   "outputs": [
    {
     "data": {
      "text/plain": [
       "Night            97\n",
       "Morning          87\n",
       "Afternoon        58\n",
       "Early morning    36\n",
       "3:00:00          12\n",
       "                 ..\n",
       "1:13              1\n",
       "9:40:00           1\n",
       "11:50:00          1\n",
       "                  1\n",
       "21:06             1\n",
       "Name: time, Length: 159, dtype: int64"
      ]
     },
     "execution_count": 7,
     "metadata": {},
     "output_type": "execute_result"
    }
   ],
   "source": [
    "df['time'].value_counts()"
   ]
  },
  {
   "cell_type": "code",
   "execution_count": 8,
   "id": "822c3885",
   "metadata": {},
   "outputs": [
    {
     "data": {
      "text/plain": [
       "1064"
      ]
     },
     "execution_count": 8,
     "metadata": {},
     "output_type": "execute_result"
    }
   ],
   "source": [
    "df['time'].isna().sum()"
   ]
  },
  {
   "cell_type": "code",
   "execution_count": 9,
   "id": "05c3ec3d",
   "metadata": {},
   "outputs": [
    {
     "data": {
      "text/html": [
       "<div>\n",
       "<style scoped>\n",
       "    .dataframe tbody tr th:only-of-type {\n",
       "        vertical-align: middle;\n",
       "    }\n",
       "\n",
       "    .dataframe tbody tr th {\n",
       "        vertical-align: top;\n",
       "    }\n",
       "\n",
       "    .dataframe thead th {\n",
       "        text-align: right;\n",
       "    }\n",
       "</style>\n",
       "<table border=\"1\" class=\"dataframe\">\n",
       "  <thead>\n",
       "    <tr style=\"text-align: right;\">\n",
       "      <th></th>\n",
       "      <th>id</th>\n",
       "      <th>date</th>\n",
       "      <th>time</th>\n",
       "      <th>country_name</th>\n",
       "      <th>state/province</th>\n",
       "      <th>population</th>\n",
       "      <th>landslide_type</th>\n",
       "      <th>trigger</th>\n",
       "      <th>fatalities</th>\n",
       "    </tr>\n",
       "  </thead>\n",
       "  <tbody>\n",
       "    <tr>\n",
       "      <th>0</th>\n",
       "      <td>34</td>\n",
       "      <td>3/2/07</td>\n",
       "      <td>Night</td>\n",
       "      <td>United States</td>\n",
       "      <td>Virginia</td>\n",
       "      <td>16000</td>\n",
       "      <td>Landslide</td>\n",
       "      <td>Rain</td>\n",
       "      <td>NaN</td>\n",
       "    </tr>\n",
       "    <tr>\n",
       "      <th>1</th>\n",
       "      <td>42</td>\n",
       "      <td>3/22/07</td>\n",
       "      <td>Not Known</td>\n",
       "      <td>United States</td>\n",
       "      <td>Ohio</td>\n",
       "      <td>17288</td>\n",
       "      <td>Landslide</td>\n",
       "      <td>Rain</td>\n",
       "      <td>NaN</td>\n",
       "    </tr>\n",
       "    <tr>\n",
       "      <th>2</th>\n",
       "      <td>56</td>\n",
       "      <td>4/6/07</td>\n",
       "      <td>Not Known</td>\n",
       "      <td>United States</td>\n",
       "      <td>Pennsylvania</td>\n",
       "      <td>15930</td>\n",
       "      <td>Landslide</td>\n",
       "      <td>Rain</td>\n",
       "      <td>NaN</td>\n",
       "    </tr>\n",
       "    <tr>\n",
       "      <th>3</th>\n",
       "      <td>59</td>\n",
       "      <td>4/14/07</td>\n",
       "      <td>Not Known</td>\n",
       "      <td>Canada</td>\n",
       "      <td>Quebec</td>\n",
       "      <td>42786</td>\n",
       "      <td>Riverbank collapse</td>\n",
       "      <td>Rain</td>\n",
       "      <td>NaN</td>\n",
       "    </tr>\n",
       "    <tr>\n",
       "      <th>4</th>\n",
       "      <td>61</td>\n",
       "      <td>4/15/07</td>\n",
       "      <td>Not Known</td>\n",
       "      <td>United States</td>\n",
       "      <td>Kentucky</td>\n",
       "      <td>6903</td>\n",
       "      <td>Landslide</td>\n",
       "      <td>Downpour</td>\n",
       "      <td>0.0</td>\n",
       "    </tr>\n",
       "    <tr>\n",
       "      <th>...</th>\n",
       "      <td>...</td>\n",
       "      <td>...</td>\n",
       "      <td>...</td>\n",
       "      <td>...</td>\n",
       "      <td>...</td>\n",
       "      <td>...</td>\n",
       "      <td>...</td>\n",
       "      <td>...</td>\n",
       "      <td>...</td>\n",
       "    </tr>\n",
       "    <tr>\n",
       "      <th>1688</th>\n",
       "      <td>7535</td>\n",
       "      <td>12/7/15</td>\n",
       "      <td>Not Known</td>\n",
       "      <td>United States</td>\n",
       "      <td>North Carolina</td>\n",
       "      <td>1646</td>\n",
       "      <td>Rockfall</td>\n",
       "      <td>NaN</td>\n",
       "      <td>0.0</td>\n",
       "    </tr>\n",
       "    <tr>\n",
       "      <th>1689</th>\n",
       "      <td>7537</td>\n",
       "      <td>2/22/16</td>\n",
       "      <td>0:00</td>\n",
       "      <td>United States</td>\n",
       "      <td>West Virginia</td>\n",
       "      <td>51400</td>\n",
       "      <td>Mudslide</td>\n",
       "      <td>Unknown</td>\n",
       "      <td>0.0</td>\n",
       "    </tr>\n",
       "    <tr>\n",
       "      <th>1690</th>\n",
       "      <td>7539</td>\n",
       "      <td>2/23/16</td>\n",
       "      <td>Not Known</td>\n",
       "      <td>United States</td>\n",
       "      <td>West Virginia</td>\n",
       "      <td>2406</td>\n",
       "      <td>Landslide</td>\n",
       "      <td>Rain</td>\n",
       "      <td>0.0</td>\n",
       "    </tr>\n",
       "    <tr>\n",
       "      <th>1691</th>\n",
       "      <td>7540</td>\n",
       "      <td>2/26/16</td>\n",
       "      <td>21:06</td>\n",
       "      <td>United States</td>\n",
       "      <td>West Virginia</td>\n",
       "      <td>1048</td>\n",
       "      <td>Rockfall</td>\n",
       "      <td>Unknown</td>\n",
       "      <td>0.0</td>\n",
       "    </tr>\n",
       "    <tr>\n",
       "      <th>1692</th>\n",
       "      <td>7541</td>\n",
       "      <td>3/2/16</td>\n",
       "      <td>8:00</td>\n",
       "      <td>United States</td>\n",
       "      <td>Vermont</td>\n",
       "      <td>2066</td>\n",
       "      <td>Rockfall</td>\n",
       "      <td>Unknown</td>\n",
       "      <td>0.0</td>\n",
       "    </tr>\n",
       "  </tbody>\n",
       "</table>\n",
       "<p>1690 rows × 9 columns</p>\n",
       "</div>"
      ],
      "text/plain": [
       "        id     date       time   country_name  state/province  population  \\\n",
       "0       34   3/2/07      Night  United States        Virginia       16000   \n",
       "1       42  3/22/07  Not Known  United States            Ohio       17288   \n",
       "2       56   4/6/07  Not Known  United States    Pennsylvania       15930   \n",
       "3       59  4/14/07  Not Known         Canada          Quebec       42786   \n",
       "4       61  4/15/07  Not Known  United States        Kentucky        6903   \n",
       "...    ...      ...        ...            ...             ...         ...   \n",
       "1688  7535  12/7/15  Not Known  United States  North Carolina        1646   \n",
       "1689  7537  2/22/16       0:00  United States   West Virginia       51400   \n",
       "1690  7539  2/23/16  Not Known  United States   West Virginia        2406   \n",
       "1691  7540  2/26/16      21:06  United States   West Virginia        1048   \n",
       "1692  7541   3/2/16       8:00  United States         Vermont        2066   \n",
       "\n",
       "          landslide_type   trigger  fatalities  \n",
       "0              Landslide      Rain         NaN  \n",
       "1              Landslide      Rain         NaN  \n",
       "2              Landslide      Rain         NaN  \n",
       "3     Riverbank collapse      Rain         NaN  \n",
       "4              Landslide  Downpour         0.0  \n",
       "...                  ...       ...         ...  \n",
       "1688            Rockfall       NaN         0.0  \n",
       "1689            Mudslide   Unknown         0.0  \n",
       "1690           Landslide      Rain         0.0  \n",
       "1691            Rockfall   Unknown         0.0  \n",
       "1692            Rockfall   Unknown         0.0  \n",
       "\n",
       "[1690 rows x 9 columns]"
      ]
     },
     "execution_count": 9,
     "metadata": {},
     "output_type": "execute_result"
    }
   ],
   "source": [
    "df['time'] = df['time'].fillna(\"Not Known\")\n",
    "df"
   ]
  },
  {
   "cell_type": "code",
   "execution_count": 10,
   "id": "917be7a0",
   "metadata": {},
   "outputs": [
    {
     "data": {
      "text/plain": [
       "0"
      ]
     },
     "execution_count": 10,
     "metadata": {},
     "output_type": "execute_result"
    }
   ],
   "source": [
    "df['time'].isna().sum()"
   ]
  },
  {
   "cell_type": "code",
   "execution_count": 11,
   "id": "f7cc53b9",
   "metadata": {},
   "outputs": [
    {
     "data": {
      "text/plain": [
       "1.4622314622314623"
      ]
     },
     "execution_count": 11,
     "metadata": {},
     "output_type": "execute_result"
    }
   ],
   "source": [
    "mean = df['fatalities'].mean()\n",
    "mean"
   ]
  },
  {
   "cell_type": "code",
   "execution_count": 12,
   "id": "c649d532",
   "metadata": {},
   "outputs": [
    {
     "data": {
      "text/html": [
       "<div>\n",
       "<style scoped>\n",
       "    .dataframe tbody tr th:only-of-type {\n",
       "        vertical-align: middle;\n",
       "    }\n",
       "\n",
       "    .dataframe tbody tr th {\n",
       "        vertical-align: top;\n",
       "    }\n",
       "\n",
       "    .dataframe thead th {\n",
       "        text-align: right;\n",
       "    }\n",
       "</style>\n",
       "<table border=\"1\" class=\"dataframe\">\n",
       "  <thead>\n",
       "    <tr style=\"text-align: right;\">\n",
       "      <th></th>\n",
       "      <th>id</th>\n",
       "      <th>date</th>\n",
       "      <th>time</th>\n",
       "      <th>country_name</th>\n",
       "      <th>state/province</th>\n",
       "      <th>population</th>\n",
       "      <th>landslide_type</th>\n",
       "      <th>trigger</th>\n",
       "      <th>fatalities</th>\n",
       "    </tr>\n",
       "  </thead>\n",
       "  <tbody>\n",
       "    <tr>\n",
       "      <th>0</th>\n",
       "      <td>34</td>\n",
       "      <td>3/2/07</td>\n",
       "      <td>Night</td>\n",
       "      <td>United States</td>\n",
       "      <td>Virginia</td>\n",
       "      <td>16000</td>\n",
       "      <td>Landslide</td>\n",
       "      <td>Rain</td>\n",
       "      <td>1.462231</td>\n",
       "    </tr>\n",
       "    <tr>\n",
       "      <th>1</th>\n",
       "      <td>42</td>\n",
       "      <td>3/22/07</td>\n",
       "      <td>Not Known</td>\n",
       "      <td>United States</td>\n",
       "      <td>Ohio</td>\n",
       "      <td>17288</td>\n",
       "      <td>Landslide</td>\n",
       "      <td>Rain</td>\n",
       "      <td>1.462231</td>\n",
       "    </tr>\n",
       "    <tr>\n",
       "      <th>2</th>\n",
       "      <td>56</td>\n",
       "      <td>4/6/07</td>\n",
       "      <td>Not Known</td>\n",
       "      <td>United States</td>\n",
       "      <td>Pennsylvania</td>\n",
       "      <td>15930</td>\n",
       "      <td>Landslide</td>\n",
       "      <td>Rain</td>\n",
       "      <td>1.462231</td>\n",
       "    </tr>\n",
       "    <tr>\n",
       "      <th>3</th>\n",
       "      <td>59</td>\n",
       "      <td>4/14/07</td>\n",
       "      <td>Not Known</td>\n",
       "      <td>Canada</td>\n",
       "      <td>Quebec</td>\n",
       "      <td>42786</td>\n",
       "      <td>Riverbank collapse</td>\n",
       "      <td>Rain</td>\n",
       "      <td>1.462231</td>\n",
       "    </tr>\n",
       "    <tr>\n",
       "      <th>4</th>\n",
       "      <td>61</td>\n",
       "      <td>4/15/07</td>\n",
       "      <td>Not Known</td>\n",
       "      <td>United States</td>\n",
       "      <td>Kentucky</td>\n",
       "      <td>6903</td>\n",
       "      <td>Landslide</td>\n",
       "      <td>Downpour</td>\n",
       "      <td>0.000000</td>\n",
       "    </tr>\n",
       "    <tr>\n",
       "      <th>...</th>\n",
       "      <td>...</td>\n",
       "      <td>...</td>\n",
       "      <td>...</td>\n",
       "      <td>...</td>\n",
       "      <td>...</td>\n",
       "      <td>...</td>\n",
       "      <td>...</td>\n",
       "      <td>...</td>\n",
       "      <td>...</td>\n",
       "    </tr>\n",
       "    <tr>\n",
       "      <th>1688</th>\n",
       "      <td>7535</td>\n",
       "      <td>12/7/15</td>\n",
       "      <td>Not Known</td>\n",
       "      <td>United States</td>\n",
       "      <td>North Carolina</td>\n",
       "      <td>1646</td>\n",
       "      <td>Rockfall</td>\n",
       "      <td>NaN</td>\n",
       "      <td>0.000000</td>\n",
       "    </tr>\n",
       "    <tr>\n",
       "      <th>1689</th>\n",
       "      <td>7537</td>\n",
       "      <td>2/22/16</td>\n",
       "      <td>0:00</td>\n",
       "      <td>United States</td>\n",
       "      <td>West Virginia</td>\n",
       "      <td>51400</td>\n",
       "      <td>Mudslide</td>\n",
       "      <td>Unknown</td>\n",
       "      <td>0.000000</td>\n",
       "    </tr>\n",
       "    <tr>\n",
       "      <th>1690</th>\n",
       "      <td>7539</td>\n",
       "      <td>2/23/16</td>\n",
       "      <td>Not Known</td>\n",
       "      <td>United States</td>\n",
       "      <td>West Virginia</td>\n",
       "      <td>2406</td>\n",
       "      <td>Landslide</td>\n",
       "      <td>Rain</td>\n",
       "      <td>0.000000</td>\n",
       "    </tr>\n",
       "    <tr>\n",
       "      <th>1691</th>\n",
       "      <td>7540</td>\n",
       "      <td>2/26/16</td>\n",
       "      <td>21:06</td>\n",
       "      <td>United States</td>\n",
       "      <td>West Virginia</td>\n",
       "      <td>1048</td>\n",
       "      <td>Rockfall</td>\n",
       "      <td>Unknown</td>\n",
       "      <td>0.000000</td>\n",
       "    </tr>\n",
       "    <tr>\n",
       "      <th>1692</th>\n",
       "      <td>7541</td>\n",
       "      <td>3/2/16</td>\n",
       "      <td>8:00</td>\n",
       "      <td>United States</td>\n",
       "      <td>Vermont</td>\n",
       "      <td>2066</td>\n",
       "      <td>Rockfall</td>\n",
       "      <td>Unknown</td>\n",
       "      <td>0.000000</td>\n",
       "    </tr>\n",
       "  </tbody>\n",
       "</table>\n",
       "<p>1690 rows × 9 columns</p>\n",
       "</div>"
      ],
      "text/plain": [
       "        id     date       time   country_name  state/province  population  \\\n",
       "0       34   3/2/07      Night  United States        Virginia       16000   \n",
       "1       42  3/22/07  Not Known  United States            Ohio       17288   \n",
       "2       56   4/6/07  Not Known  United States    Pennsylvania       15930   \n",
       "3       59  4/14/07  Not Known         Canada          Quebec       42786   \n",
       "4       61  4/15/07  Not Known  United States        Kentucky        6903   \n",
       "...    ...      ...        ...            ...             ...         ...   \n",
       "1688  7535  12/7/15  Not Known  United States  North Carolina        1646   \n",
       "1689  7537  2/22/16       0:00  United States   West Virginia       51400   \n",
       "1690  7539  2/23/16  Not Known  United States   West Virginia        2406   \n",
       "1691  7540  2/26/16      21:06  United States   West Virginia        1048   \n",
       "1692  7541   3/2/16       8:00  United States         Vermont        2066   \n",
       "\n",
       "          landslide_type   trigger  fatalities  \n",
       "0              Landslide      Rain    1.462231  \n",
       "1              Landslide      Rain    1.462231  \n",
       "2              Landslide      Rain    1.462231  \n",
       "3     Riverbank collapse      Rain    1.462231  \n",
       "4              Landslide  Downpour    0.000000  \n",
       "...                  ...       ...         ...  \n",
       "1688            Rockfall       NaN    0.000000  \n",
       "1689            Mudslide   Unknown    0.000000  \n",
       "1690           Landslide      Rain    0.000000  \n",
       "1691            Rockfall   Unknown    0.000000  \n",
       "1692            Rockfall   Unknown    0.000000  \n",
       "\n",
       "[1690 rows x 9 columns]"
      ]
     },
     "execution_count": 12,
     "metadata": {},
     "output_type": "execute_result"
    }
   ],
   "source": [
    "df['fatalities'] = df['fatalities'].fillna(mean)\n",
    "df"
   ]
  },
  {
   "cell_type": "code",
   "execution_count": 13,
   "id": "a7960925",
   "metadata": {},
   "outputs": [
    {
     "data": {
      "text/plain": [
       "0"
      ]
     },
     "execution_count": 13,
     "metadata": {},
     "output_type": "execute_result"
    }
   ],
   "source": [
    "df['fatalities'].isna().sum()"
   ]
  },
  {
   "cell_type": "markdown",
   "id": "e5c11aba",
   "metadata": {},
   "source": [
    "## Date time parsing using .to_datetime()"
   ]
  },
  {
   "cell_type": "code",
   "execution_count": 14,
   "id": "87ae56f4",
   "metadata": {},
   "outputs": [
    {
     "name": "stdout",
     "output_type": "stream",
     "text": [
      "<class 'pandas.core.frame.DataFrame'>\n",
      "Int64Index: 1690 entries, 0 to 1692\n",
      "Data columns (total 9 columns):\n",
      " #   Column          Non-Null Count  Dtype  \n",
      "---  ------          --------------  -----  \n",
      " 0   id              1690 non-null   int64  \n",
      " 1   date            1690 non-null   object \n",
      " 2   time            1690 non-null   object \n",
      " 3   country_name    1690 non-null   object \n",
      " 4   state/province  1689 non-null   object \n",
      " 5   population      1690 non-null   int64  \n",
      " 6   landslide_type  1689 non-null   object \n",
      " 7   trigger         1688 non-null   object \n",
      " 8   fatalities      1690 non-null   float64\n",
      "dtypes: float64(1), int64(2), object(6)\n",
      "memory usage: 132.0+ KB\n"
     ]
    }
   ],
   "source": [
    "df.info()"
   ]
  },
  {
   "cell_type": "code",
   "execution_count": 15,
   "id": "63ee6048",
   "metadata": {},
   "outputs": [
    {
     "data": {
      "text/plain": [
       "0        3/2/07\n",
       "1       3/22/07\n",
       "2        4/6/07\n",
       "3       4/14/07\n",
       "4       4/15/07\n",
       "         ...   \n",
       "1688    12/7/15\n",
       "1689    2/22/16\n",
       "1690    2/23/16\n",
       "1691    2/26/16\n",
       "1692     3/2/16\n",
       "Name: date, Length: 1690, dtype: object"
      ]
     },
     "execution_count": 15,
     "metadata": {},
     "output_type": "execute_result"
    }
   ],
   "source": [
    "df['date']"
   ]
  },
  {
   "cell_type": "code",
   "execution_count": 16,
   "id": "ef47ac32",
   "metadata": {},
   "outputs": [
    {
     "data": {
      "text/plain": [
       "0      2007-03-02\n",
       "1      2007-03-22\n",
       "2      2007-04-06\n",
       "3      2007-04-14\n",
       "4      2007-04-15\n",
       "          ...    \n",
       "1688   2015-12-07\n",
       "1689   2016-02-22\n",
       "1690   2016-02-23\n",
       "1691   2016-02-26\n",
       "1692   2016-03-02\n",
       "Name: parsed_date, Length: 1690, dtype: datetime64[ns]"
      ]
     },
     "execution_count": 16,
     "metadata": {},
     "output_type": "execute_result"
    }
   ],
   "source": [
    "df['parsed_date'] = pd.to_datetime(df['date'], format=\"%m/%d/%y\")\n",
    "df['parsed_date']"
   ]
  },
  {
   "cell_type": "code",
   "execution_count": 17,
   "id": "7c263a62",
   "metadata": {},
   "outputs": [
    {
     "data": {
      "text/plain": [
       "0        3\n",
       "1        3\n",
       "2        4\n",
       "3        4\n",
       "4        4\n",
       "        ..\n",
       "1688    12\n",
       "1689     2\n",
       "1690     2\n",
       "1691     2\n",
       "1692     3\n",
       "Name: parsed_date, Length: 1690, dtype: int64"
      ]
     },
     "execution_count": 17,
     "metadata": {},
     "output_type": "execute_result"
    }
   ],
   "source": [
    "month_of_lslide = df['parsed_date'].dt.month\n",
    "month_of_lslide"
   ]
  },
  {
   "cell_type": "code",
   "execution_count": 18,
   "id": "665906b3",
   "metadata": {},
   "outputs": [
    {
     "name": "stderr",
     "output_type": "stream",
     "text": [
      "C:\\Users\\AfsarSheikh\\AppData\\Local\\Temp\\ipykernel_19316\\4287812100.py:4: UserWarning: \n",
      "\n",
      "`distplot` is a deprecated function and will be removed in seaborn v0.14.0.\n",
      "\n",
      "Please adapt your code to use either `displot` (a figure-level function with\n",
      "similar flexibility) or `histplot` (an axes-level function for histograms).\n",
      "\n",
      "For a guide to updating your code to use the new functions, please see\n",
      "https://gist.github.com/mwaskom/de44147ed2974457ad6372750bbe5751\n",
      "\n",
      "  sns.distplot(month_of_lslide, kde=False, bins=12)\n"
     ]
    },
    {
     "data": {
      "text/plain": [
       "<AxesSubplot: xlabel='parsed_date'>"
      ]
     },
     "execution_count": 18,
     "metadata": {},
     "output_type": "execute_result"
    },
    {
     "data": {
      "image/png": "[encoded data removed]",
      "text/plain": [
       "<Figure size 640x480 with 1 Axes>"
      ]
     },
     "metadata": {},
     "output_type": "display_data"
    }
   ],
   "source": [
    "import seaborn as sns\n",
    "\n",
    "month_of_lslide = month_of_lslide.dropna()\n",
    "sns.distplot(month_of_lslide, kde=False, bins=12)"
   ]
  },
  {
   "cell_type": "markdown",
   "id": "600a404d",
   "metadata": {},
   "source": [
    "## Correcting the data format"
   ]
  },
  {
   "cell_type": "code",
   "execution_count": 23,
   "id": "83333698",
   "metadata": {},
   "outputs": [
    {
     "data": {
      "text/plain": [
       "Not Known    1067\n",
       "Morning       265\n",
       "Night         194\n",
       "Afternoon     145\n",
       "Evening        19\n",
       "Name: time, dtype: int64"
      ]
     },
     "execution_count": 23,
     "metadata": {},
     "output_type": "execute_result"
    }
   ],
   "source": [
    "df['time'].value_counts()"
   ]
  },
  {
   "cell_type": "code",
   "execution_count": 20,
   "id": "7e947544",
   "metadata": {},
   "outputs": [],
   "source": [
    "def format_time(x):\n",
    "    if ':' in x.lower():\n",
    "        if int(x.split(':')[0]) >= 12 and int(x.split(':')[0]) < 18:\n",
    "            x = \"Afternoon\"\n",
    "        elif int(x.split(':')[0]) < 12:\n",
    "            x = \"Morning\"\n",
    "        elif int(x.split(':')[0]) >=18:\n",
    "            x = \"Night\"\n",
    "    elif 'evening' in x.lower():\n",
    "        x = \"Evening\"\n",
    "    elif 'morning' in x.lower() or 'dawn' in x.lower():\n",
    "        x = \"Morning\"\n",
    "    elif 'afternoon' in x.lower():\n",
    "        x = \"Afternoon\"\n",
    "    elif 'night' in x.lower():\n",
    "        x = \"Night\"\n",
    "    else:\n",
    "        x = \"Not Known\"\n",
    "    \n",
    "    return x"
   ]
  },
  {
   "cell_type": "code",
   "execution_count": 24,
   "id": "1fe5df69",
   "metadata": {},
   "outputs": [],
   "source": [
    "df['time'] = df['time'].apply(format_time)"
   ]
  },
  {
   "cell_type": "code",
   "execution_count": 25,
   "id": "2495ba9e",
   "metadata": {},
   "outputs": [
    {
     "data": {
      "text/plain": [
       "Not Known    1067\n",
       "Morning       265\n",
       "Night         194\n",
       "Afternoon     145\n",
       "Evening        19\n",
       "Name: time, dtype: int64"
      ]
     },
     "execution_count": 25,
     "metadata": {},
     "output_type": "execute_result"
    }
   ],
   "source": [
    "df['time'].value_counts()"
   ]
  },
  {
   "cell_type": "code",
   "execution_count": null,
   "id": "dc6af047",
   "metadata": {},
   "outputs": [],
   "source": []
  },
  {
   "cell_type": "code",
   "execution_count": null,
   "id": "054066a9",
   "metadata": {},
   "outputs": [],
   "source": []
  }
 ],
 "metadata": {
  "kernelspec": {
   "display_name": "Python 3 (ipykernel)",
   "language": "python",
   "name": "python3"
  },
  "language_info": {
   "codemirror_mode": {
    "name": "ipython",
    "version": 3
   },
   "file_extension": ".py",
   "mimetype": "text/x-python",
   "name": "python",
   "nbconvert_exporter": "python",
   "pygments_lexer": "ipython3",
   "version": "3.11.1"
  }
 },
 "nbformat": 4,
 "nbformat_minor": 5
}
